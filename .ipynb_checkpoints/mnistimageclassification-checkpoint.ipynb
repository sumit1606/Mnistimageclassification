{
 "cells": [
  {
   "cell_type": "code",
   "execution_count": 2,
   "metadata": {
    "collapsed": true
   },
   "outputs": [],
   "source": [
    "import tensorflow as tf\n",
    "import numpy as np"
   ]
  },
  {
   "cell_type": "code",
   "execution_count": 49,
   "metadata": {
    "collapsed": true
   },
   "outputs": [],
   "source": [
    "## as tensor flow supports broadcasting\n",
    "## so we can by default subtract and the test data will get subtracted from \n",
    "## every training Data \n",
    "def processImage(testDatapt, trainingDatapts):\n",
    "    return trainingDatapts - testDatapt;"
   ]
  },
  {
   "cell_type": "code",
   "execution_count": 59,
   "metadata": {},
   "outputs": [
    {
     "name": "stdout",
     "output_type": "stream",
     "text": [
      "Extracting MNIST_data/train-images-idx3-ubyte.gz\n",
      "Extracting MNIST_data/train-labels-idx1-ubyte.gz\n",
      "Extracting MNIST_data/t10k-images-idx3-ubyte.gz\n",
      "Extracting MNIST_data/t10k-labels-idx1-ubyte.gz\n"
     ]
    }
   ],
   "source": [
    "## reading data online other alternative can be is to store\n",
    "## data locally and than read using queues and multithreading\n",
    "from tensorflow.examples.tutorials.mnist import input_data\n",
    "## each image has only one label here that is what is\n",
    "## represented by one_hot = True variable\n",
    "mnist = input_data.read_data_sets(\"MNIST_data/\", one_hot=True)\n",
    "## loading the data here for the processing and then for the validation\n",
    "trainingData, traininglabel = mnist.train.next_batch(10000)\n",
    "validationData, validationLabel= mnist.test.next_batch(200);\n",
    "## as each image is of 784 dimensions\n",
    "trainingDatapts =  tf.placeholder(\"float\", [None , 784]);\n",
    "## keeping the shape still as none as we might end up feeding more \n",
    "## than one vector\n",
    "testDatapt =  tf.placeholder(\"float\", [784]); \n",
    "\n",
    "numberOfRows = tf.shape(testDatapts)[0];\n",
    "\n",
    "## processCurrentImage will be the L1 distance of current\n",
    "## image with all the training data\n",
    "processCurrentImage = processImage(testDatapt, trainingDatapts);\n",
    "## making the absolute of the difference between the image\n",
    "L1Imageabs = tf.abs(processCurrentImage);\n",
    "## calucating the L1 distance which is essentially\n",
    "## equal to sum of all the columns of a row\n",
    "L1Distance = tf.reduce_sum(L1Imageabs, axis  = 1);\n",
    "\n",
    "## getting the index of the training example which gave the \n",
    "## minimum distance and we will classify our image as the same\n",
    "## label\n",
    "imageIndex = tf.argmin(L1Distance, 0); \n",
    "\n",
    "## keeping the L1 distance for now but it can be modified \n",
    "## further to improve the results\n",
    "init = tf.global_variables_initializer()\n",
    "    "
   ]
  },
  {
   "cell_type": "code",
   "execution_count": 60,
   "metadata": {},
   "outputs": [
    {
     "name": "stdout",
     "output_type": "stream",
     "text": [
      "running stuff [[ 0.  0.  0. ...,  0.  0.  0.]\n",
      " [ 0.  0.  0. ...,  0.  0.  0.]\n",
      " [ 0.  0.  0. ...,  0.  0.  0.]\n",
      " ..., \n",
      " [ 0.  0.  0. ...,  0.  0.  0.]\n",
      " [ 0.  0.  0. ...,  0.  0.  0.]\n",
      " [ 0.  0.  0. ...,  0.  0.  0.]]\n",
      "running stuff 1028\n"
     ]
    }
   ],
   "source": [
    "with tf.Session() as sess:\n",
    "    sess.run(init)\n",
    "    for i in range(len(validationData)):\n",
    "        currentData = validationData[i];\n",
    "        currentLabel = validationLabel[i];\n",
    "        ## starting the feed dictionary for the newly entered field\n",
    "        ## and than we will find its minimum distance with all the Point\n",
    "        ## and give the label the point have which gives the minimum distance\n",
    "        feedDict = {testDatapt: currentData,trainingDatapts: trainingData }\n",
    "        #print(\"running stuff\", sess.run(processCurrentImage , feedDict).shape);\n",
    "        print(\"running stuff\", sess.run(imageIndex, feedDict));\n",
    "        ## getting each row of the training matrix notation"
   ]
  },
  {
   "cell_type": "code",
   "execution_count": 6,
   "metadata": {},
   "outputs": [
    {
     "data": {
      "application/javascript": [
       "CodeMirror.defaults.cursorBlinkRate=0"
      ],
      "text/plain": [
       "<IPython.core.display.Javascript object>"
      ]
     },
     "metadata": {},
     "output_type": "display_data"
    }
   ],
   "source": []
  }
 ],
 "metadata": {
  "kernelspec": {
   "display_name": "Python [conda root]",
   "language": "python",
   "name": "conda-root-py"
  },
  "language_info": {
   "codemirror_mode": {
    "name": "ipython",
    "version": 3
   },
   "file_extension": ".py",
   "mimetype": "text/x-python",
   "name": "python",
   "nbconvert_exporter": "python",
   "pygments_lexer": "ipython3",
   "version": "3.6.3"
  }
 },
 "nbformat": 4,
 "nbformat_minor": 2
}
