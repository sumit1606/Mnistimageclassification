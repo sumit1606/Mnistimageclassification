{
 "cells": [
  {
   "cell_type": "code",
   "execution_count": 1,
   "metadata": {},
   "outputs": [
    {
     "name": "stderr",
     "output_type": "stream",
     "text": [
      "/Users/sumitbhanwala/anaconda3/lib/python3.6/importlib/_bootstrap.py:219: RuntimeWarning: compiletime version 3.5 of module 'tensorflow.python.framework.fast_tensor_util' does not match runtime version 3.6\n",
      "  return f(*args, **kwds)\n"
     ]
    }
   ],
   "source": [
    "import tensorflow as tf\n",
    "import numpy as np"
   ]
  },
  {
   "cell_type": "code",
   "execution_count": 2,
   "metadata": {
    "collapsed": true
   },
   "outputs": [],
   "source": [
    "## as tensor flow supports broadcasting\n",
    "## so we can by default subtract and the test data will get subtracted from \n",
    "## every training Data \n",
    "def processImage(testDatapt, trainingDatapts):\n",
    "    return trainingDatapts - testDatapt;"
   ]
  },
  {
   "cell_type": "code",
   "execution_count": 3,
   "metadata": {},
   "outputs": [
    {
     "name": "stdout",
     "output_type": "stream",
     "text": [
      "Extracting MNIST_data/train-images-idx3-ubyte.gz\n",
      "Extracting MNIST_data/train-labels-idx1-ubyte.gz\n",
      "Extracting MNIST_data/t10k-images-idx3-ubyte.gz\n",
      "Extracting MNIST_data/t10k-labels-idx1-ubyte.gz\n"
     ]
    }
   ],
   "source": [
    "## reading data online other alternative can be is to store\n",
    "## data locally and than read using queues and multithreading\n",
    "from tensorflow.examples.tutorials.mnist import input_data\n",
    "## each image has only one label here that is what is\n",
    "## represented by one_hot = True variable\n",
    "mnist = input_data.read_data_sets(\"MNIST_data/\", one_hot=True)\n",
    "## loading the data here for the processing and then for the validation\n",
    "trainingData, traininglabel = mnist.train.next_batch(10000)\n",
    "validationData, validationLabel= mnist.test.next_batch(200);\n",
    "## as each image is of 784 dimensions\n",
    "trainingDatapts =  tf.placeholder(\"float\", [None , 784]);\n",
    "## keeping the shape still as none as we might end up feeding more \n",
    "## than one vector\n",
    "testDatapt =  tf.placeholder(\"float\", [784]); \n",
    "\n",
    "## processCurrentImage will be the L1 distance of current\n",
    "## image with all the training data\n",
    "processCurrentImage = processImage(testDatapt, trainingDatapts);\n",
    "## making the absolute of the difference between the image\n",
    "L1Imageabs = tf.abs(processCurrentImage);\n",
    "## calucating the L1 distance which is essentially\n",
    "## equal to sum of all the columns of a row\n",
    "L1Distance = tf.reduce_sum(L1Imageabs, axis  = 1);\n",
    "\n",
    "## getting the index of the training example which gave the \n",
    "## minimum distance and we will classify our image as the same\n",
    "## label\n",
    "imageIndex = tf.argmin(L1Distance, 0); \n",
    "\n",
    "## keeping the L1 distance for now but it can be modified \n",
    "## further to improve the results\n",
    "init = tf.global_variables_initializer()\n",
    "    "
   ]
  },
  {
   "cell_type": "code",
   "execution_count": 4,
   "metadata": {},
   "outputs": [
    {
     "name": "stdout",
     "output_type": "stream",
     "text": [
      "Accuracy is 94.5\n"
     ]
    }
   ],
   "source": [
    "with tf.Session() as sess:\n",
    "    sess.run(init)\n",
    "    correct = 0;\n",
    "    for i in range(len(validationData)):\n",
    "        currentData = validationData[i];\n",
    "        currentLabel = validationLabel[i];\n",
    "        ## starting the feed dictionary for the newly entered field\n",
    "        ## and than we will find its minimum distance with all the Point\n",
    "        ## and give the label the point have which gives the minimum distance\n",
    "        feedDict = {testDatapt: currentData,trainingDatapts: trainingData }\n",
    "        distance = sess.run(processCurrentImage , feedDict);\n",
    "        distanceAbsolute = sess.run(L1Imageabs, {processCurrentImage: distance});\n",
    "        reducedDistance = sess.run(L1Distance, {L1Imageabs: distanceAbsolute});\n",
    "        imageIndexfinal = sess.run(imageIndex, {L1Distance: reducedDistance});\n",
    "        # Calculate accuracy\n",
    "        if np.argmax(traininglabel[imageIndexfinal]) == np.argmax(validationLabel[i]):\n",
    "            correct+=1;\n",
    "        ## getting each row of the training matrix notation\n",
    "    print(\"Accuracy is\",correct/len(validationData) * 100);\n",
    "    writer = tf.summary.FileWriter('./TensorGraph', sess.graph)\n",
    "    writer.close()\n",
    "    "
   ]
  }
 ],
 "metadata": {
  "kernelspec": {
   "display_name": "Python [conda root]",
   "language": "python",
   "name": "conda-root-py"
  },
  "language_info": {
   "codemirror_mode": {
    "name": "ipython",
    "version": 3
   },
   "file_extension": ".py",
   "mimetype": "text/x-python",
   "name": "python",
   "nbconvert_exporter": "python",
   "pygments_lexer": "ipython3",
   "version": "3.6.3"
  }
 },
 "nbformat": 4,
 "nbformat_minor": 2
}
