{
 "cells": [
  {
   "cell_type": "code",
   "execution_count": 26,
   "metadata": {},
   "outputs": [],
   "source": [
    "import tensorflow as tf\n",
    "import numpy as np"
   ]
  },
  {
   "cell_type": "code",
   "execution_count": 30,
   "metadata": {},
   "outputs": [
    {
     "name": "stdout",
     "output_type": "stream",
     "text": [
      "Hello baby\n",
      "temp here is [[0]]\n",
      "asd [[0 0 0 0]]\n",
      "temp here is [[1]]\n",
      "asd [[1 2 3 3]]\n",
      "temp here is [[2]]\n",
      "asd [[2 4 6 6]]\n",
      "temp here is [[3]]\n",
      "asd [[3 6 9 9]]\n",
      "temp here is [[4]]\n",
      "asd [[ 4  8 12 12]]\n",
      "temp here is [[5]]\n",
      "asd [[ 5 10 15 15]]\n",
      "temp here is [[6]]\n",
      "asd [[ 6 12 18 18]]\n",
      "temp here is [[7]]\n",
      "asd [[ 7 14 21 21]]\n",
      "temp here is [[8]]\n",
      "asd [[ 8 16 24 24]]\n",
      "temp here is [[9]]\n",
      "asd [[ 9 18 27 27]]\n"
     ]
    }
   ],
   "source": [
    "t1 = tf.constant([1,2,3,3])\n",
    "i1 =  tf.placeholder(tf.int32, [None,1]); \n",
    "def getTensor(i1):\n",
    "    print(\"Hello baby\",);\n",
    "    return t1 * i1;\n",
    "\n",
    "t = getTensor(i1);\n",
    "\n",
    "with tf.Session() as sess:\n",
    "#     len = sess.run(tf.shape(t))\n",
    "    for i in range(10):\n",
    "        temp = [[i]];\n",
    "        print(\"temp here is\", temp);\n",
    "        feedDict = {i1: temp}\n",
    "        print(\"asd\",sess.run(t,feedDict));\n",
    "#         print(sess.run(tf.slice(t,[i],[1]))[0])\n",
    "   "
   ]
  },
  {
   "cell_type": "code",
   "execution_count": 31,
   "metadata": {
    "collapsed": true
   },
   "outputs": [],
   "source": [
    "    writer = tf.summary.FileWriter('./Mygraphs', sess.graph)\n",
    "    writer.close()"
   ]
  }
 ],
 "metadata": {
  "kernelspec": {
   "display_name": "Python [conda root]",
   "language": "python",
   "name": "conda-root-py"
  },
  "language_info": {
   "codemirror_mode": {
    "name": "ipython",
    "version": 3
   },
   "file_extension": ".py",
   "mimetype": "text/x-python",
   "name": "python",
   "nbconvert_exporter": "python",
   "pygments_lexer": "ipython3",
   "version": "3.6.3"
  }
 },
 "nbformat": 4,
 "nbformat_minor": 2
}
